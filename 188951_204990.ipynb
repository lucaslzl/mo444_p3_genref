{
 "cells": [
  {
   "cell_type": "markdown",
   "metadata": {},
   "source": [
    "<img src=\"unicamp.png\" width=\"150\" height=\"150\">"
   ]
  },
  {
   "cell_type": "markdown",
   "metadata": {},
   "source": [
    "## MO444/MC886 - Aprendizado de Máquina e Reconhecimento de Padrões\n",
    "\n",
    "Esse trabalho foi feito pelos seguintes membros:\n",
    "\n",
    "- Lucas Zanco Ladeira - 188951\n",
    "- Rafael Scherer - 204990 \n",
    "\n",
    "O código original deste projeto está disponível no [repositório do Github](https://github.com/lucaslzl/mo444_p3_genref). "
   ]
  },
  {
   "cell_type": "markdown",
   "metadata": {},
   "source": [
    "## Algoritmos Evolutivos e Métodos de Aprendizado por Reforço"
   ]
  },
  {
   "cell_type": "markdown",
   "metadata": {},
   "source": [
    "### Parte I - Algoritmos Evolutivos\n",
    "\n",
    "<b>Declaração do problema</b><br>\n",
    "\"Nesta parte, seu grupo deve aplicar uma técnica de computação evolucionária para resolver o problema do Pac-man. O trabalho\n",
    "consiste em encontrar uma solução adequada para o problema, avaliando-o segundo diversos parâmetros.\""
   ]
  },
  {
   "cell_type": "markdown",
   "metadata": {},
   "source": [
    "### Descrição\n",
    "\n",
    "A interação entre o agente (pac-man) e o ambiente é feita utilizando a seguinte [ferramenta](http://cs.brynmawr.edu/Courses/cs372/fall2017/Code/search.zip.), com a versão para Python 3. É possível passar como parâmetro o agente a ser utilizado, sendo que, as possíveis ações do agente compreendem os movimentos a serem executados no jogo, sendo eles:\n",
    "- North\n",
    "- West\n",
    "- East\n",
    "- South\n",
    "- Stop\n",
    "\n",
    "A seguir está disponível a implementação do agente, o qual itera a lista de movimentos. Após o último elemento da lista a única ação feita é de <i>Stop</i>."
   ]
  },
  {
   "cell_type": "code",
   "execution_count": null,
   "metadata": {},
   "outputs": [],
   "source": [
    "from search.game import Agent, Directions\n",
    "\n",
    "\n",
    "class SuperAgent(Agent):\n",
    "\n",
    "\n",
    "    def __init__(self, moves=None):\n",
    "\n",
    "        self.moves = moves\n",
    "        self.iteration = 0\n",
    "\n",
    "\n",
    "    def getAction(self, state):\n",
    "\n",
    "        self.iteration += 1\n",
    "\n",
    "        if  self.iteration < len(self.moves) and self.moves[self.iteration-1] in state.getLegalPacmanActions():\n",
    "            return self.moves[self.iteration-1]\n",
    "        else:\n",
    "            return Directions.STOP"
   ]
  },
  {
   "cell_type": "markdown",
   "metadata": {},
   "source": [
    "Para interagir com o ambiente e encontrar uma solução, foi escolhido utilizar um algoritmo genético. Considerando as características deste tipo de meta-heurística, agora iremos definir alguns parâmetros e estratégias implementadas.\n",
    "\n",
    "<b>População</b>\n",
    "\n",
    "A população é gerada aleatoriamente para explorar o conjunto de soluções possíveis. Cada gene da população compreende 200 movimentos do Pac-man. Portanto, o agente apenas faz alguma ação nos 200 primeiros movimentos, após isso o agente fica parado até que algum fantasma o encontre. O tamanho da população escolhido é de 100 genes. O código a seguir foi utilizado para gerar aleatoriamente os genes."
   ]
  },
  {
   "cell_type": "code",
   "execution_count": null,
   "metadata": {},
   "outputs": [],
   "source": [
    "import numpy as np\n",
    "\n",
    "MOVES = [Directions.NORTH, Directions.EAST, Directions.SOUTH, Directions.WEST]\n",
    "\n",
    "def generate_gene(size:int = 200):\n",
    "\n",
    "    return np.random.choice(MOVES, size)\n",
    "\n",
    "\n",
    "def generate_population(size:int = 100):\n",
    "\n",
    "    population = []\n",
    "\n",
    "    for i in range(size):\n",
    "        population.append(generate_gene())\n",
    "    \n",
    "    return population"
   ]
  },
  {
   "cell_type": "markdown",
   "metadata": {},
   "source": [
    "<b>Configuração da Ferramenta</b>\n",
    "\n",
    "É possível utilizar a ferramenta de 2 maneiras, a) chamando o código pelo terminal e passando os parâmetros, b) importando as classes e chamando o método <i>runGames</i> da classe pacman. Escolhemos utilizar com a segunda opção. Sendo assim, para configurar a ferramenta é necessário gerar um dicionário com os parâmetros como é apresentado no código a seguir. É obtido o nome do layout a ser executado, o agente, são criados 4 fantasmas aleatórios, desligada a parte gráfica, entre outras configurações."
   ]
  },
  {
   "cell_type": "code",
   "execution_count": null,
   "metadata": {},
   "outputs": [],
   "source": [
    "def gen_args(layout_name, agent):\n",
    "\n",
    "    args = {}\n",
    "\n",
    "    args['layout'] = layout.getLayout(layout_name)\n",
    "    args['pacman'] = agent\n",
    "    args['ghosts'] = [RandomGhost(i+1) for i in range(4)]\n",
    "\n",
    "    args['display'] = textDisplay.NullGraphics()\n",
    "    args['numGames'] = 1\n",
    "    args['record'] = False\n",
    "    args['catchExceptions'] = False\n",
    "    args['timeout'] = 1\n",
    "\n",
    "    return args"
   ]
  },
  {
   "cell_type": "markdown",
   "metadata": {},
   "source": [
    "<b>Função de <i>Fitness</i></b>\n",
    "\n",
    "Com a população e o dicionário dos parâmetros é possível executar um jogo. Como utilizamos o score dado pela ferramenta, então a execução dos jogos se refere a nossa função <i>fitness</i> (com nome de evaluate no código). O código a seguir descreve a execução considerando cada membro da população e obtenção do score. É retornado apenas 1 score para cada membro da população e esse descreve o avanço do agente dada cada lista de movimentos."
   ]
  },
  {
   "cell_type": "code",
   "execution_count": null,
   "metadata": {},
   "outputs": [],
   "source": [
    "def evaluate(population, maze='tinyMaze'):\n",
    "    \n",
    "    scores = []\n",
    "\n",
    "    for p in population:\n",
    "\n",
    "        args = gen_args(maze, SuperAgent(p))\n",
    "        games = runGames(**args)\n",
    "        score = games[-1].state.getScore()\n",
    "        scores.append(score)\n",
    "    \n",
    "    return scores"
   ]
  },
  {
   "cell_type": "markdown",
   "metadata": {},
   "source": [
    "<b><i>Loop</i> Principal</b>\n",
    "\n",
    "Definidas as funções de geração de população, configuração e <i>fitness</i>, agora será apresentado o <i>loop</i> principal e as funções que geram uma nova população a cada iteração. A função <i>run</i> recebe como parâmetro o nome do labirinto e qual é a iteração (quantidade de execuções do experimento) para gerar arquivos distintos. Primeiramente é gerada uma nova população e criado um dicionário para armazenar os resultados. Então, o loop é executado 100 vezes. A biblioteca <i>tqdm</i> cria uma barra de carregamento para ajudar a acompanhar a execução. A função <i>evaluate</i> já foi apresentada. A próxima função salva os scores no dicionário <i>history</i>. As próximas 4 funções fazem a seleção, crossover, mutação e replacement para gerar uma nova população. Por fim, após é obtido o melhor gene da última população e os resultados são salvos."
   ]
  },
  {
   "cell_type": "code",
   "execution_count": null,
   "metadata": {},
   "outputs": [],
   "source": [
    "def run(maze, iteration):\n",
    "\n",
    "    population = generate_population()\n",
    "    history = {\n",
    "        'mini': [],\n",
    "        'maxi': [],\n",
    "        'mean': [],\n",
    "        'scores': []\n",
    "    }\n",
    "    \n",
    "    for i in tqdm(range(100)):\n",
    "\n",
    "        scores = evaluate(population, maze)\n",
    "        history = get_stats(history, scores)\n",
    "\n",
    "        psel = select(population, scores)\n",
    "        pcro = crossover(population)\n",
    "        pmut = mutation(population)\n",
    "        prep = replacement(population, psel, pcro, pmut)\n",
    "        \n",
    "        population = prep\n",
    "\n",
    "    history['best'] = get_best(population, scores)\n",
    "    save_history(history, maze, iteration)"
   ]
  },
  {
   "cell_type": "markdown",
   "metadata": {},
   "source": [
    "<b>Select</b>\n",
    "\n",
    "The select function has the goal to obtain the top <i>x</i> genes of the population according to the score. So, first <i>qty</i> stores how many elements should be selected. Then, we sort the list and select the elements."
   ]
  },
  {
   "cell_type": "code",
   "execution_count": null,
   "metadata": {},
   "outputs": [],
   "source": [
    "def select(population, scores):\n",
    "    \n",
    "    # Get how many elements will be selected\n",
    "    qty = int(len(population)*BEST_RATE)\n",
    "    \n",
    "    # Get top qty elements from list\n",
    "    # Ref: https://stackoverflow.com/questions/13070461/get-indices-of-the-top-n-values-of-a-list\n",
    "    indexes = sorted(range(len(scores)), key=lambda i: scores[i], reverse=True)[:qty]\n",
    "    selected = np.array(population)[indexes].tolist()\n",
    "\n",
    "    return selected"
   ]
  },
  {
   "cell_type": "markdown",
   "metadata": {},
   "source": [
    "<b>Crossover</b>\n",
    "\n",
    "The crossover function has the goal to obtain the top <i>x</i> genes of the population according to the score and make crossover transformation. The crossover implemented selects pairs of genes and a split position to create new genes. A <i>new_x</i> gene comprehends the first gene of the pair from the start to the split position, and the second gene from the split position to the end. A <i>new_y</i> goes through the same transformation but it uses the second gene of the pair from the start to the split position and the first gene from the split position to the end of the gene. The crossover occurs $\\frac{qty}{2}$ times. And generates <i>qty</i> new genes."
   ]
  },
  {
   "cell_type": "code",
   "execution_count": null,
   "metadata": {},
   "outputs": [],
   "source": [
    "def crossover(population):\n",
    "\n",
    "    # Get how many elements will be selected\n",
    "    qty = int(len(population)*CROSSOVER_RATE)\n",
    "\n",
    "    crossed = []\n",
    "\n",
    "    # Get two random elements and apply crossover\n",
    "    for i in range(qty//2):\n",
    "\n",
    "        # Get two random indexes\n",
    "        x = random.randrange(len(population))\n",
    "        y = random.randrange(len(population))\n",
    "\n",
    "        # Get random genes\n",
    "        x = population[x]\n",
    "        y = population[y]\n",
    "\n",
    "        # Get crossover split position\n",
    "        split = random.randrange(len(x))\n",
    "        new_x = np.array(x)[:split].tolist() + np.array(y)[split:].tolist()\n",
    "        new_y = np.array(y)[:split].tolist() + np.array(x)[split:].tolist()\n",
    "\n",
    "        crossed.append(new_x)\n",
    "        crossed.append(new_y)\n",
    "\n",
    "    return crossed"
   ]
  },
  {
   "cell_type": "markdown",
   "metadata": {},
   "source": [
    "<b>Mutation</b>\n",
    "\n",
    "The mutation function has the goal to obtain the top <i>x</i> genes of the population according to the score and make mutations. A mutation comprehends to select a random gene, select randomly a position of the gene, and change to a random move."
   ]
  },
  {
   "cell_type": "code",
   "execution_count": null,
   "metadata": {},
   "outputs": [],
   "source": [
    "def mutation(population):\n",
    "    \n",
    "    # Get how many elements will be selected\n",
    "    qty = int(len(population)*MUTATION_RATE)\n",
    "\n",
    "    mutated = []\n",
    "\n",
    "    for i in range(qty):\n",
    "        \n",
    "        # Get a random index\n",
    "        x = random.randrange(len(population))\n",
    "\n",
    "        # Get random gene\n",
    "        x = population[x]\n",
    "\n",
    "        sel_move = np.random.choice(MOVES, 1)[0]\n",
    "        sel_pos = random.randrange(len(x))\n",
    "\n",
    "        x[sel_pos] = sel_move\n",
    "\n",
    "        mutated.append(x)\n",
    "\n",
    "    return mutated"
   ]
  },
  {
   "cell_type": "markdown",
   "metadata": {},
   "source": [
    "<b>Replacement</b>\n",
    "\n",
    "The replacement function has the goal to create the new population with the genes that were obtained from select, crossover and mutation. In addition, it adds randomly selected genes to fill the population until the size."
   ]
  },
  {
   "cell_type": "code",
   "execution_count": null,
   "metadata": {},
   "outputs": [],
   "source": [
    "def replacement(population, psel, pcro, pmut):\n",
    "    \n",
    "    replaced = []\n",
    "\n",
    "    replaced.extend(psel)\n",
    "    replaced.extend(pcro)\n",
    "    replaced.extend(pmut)\n",
    "\n",
    "    qty = int(len(population)*REPLACEMENT_RATE)\n",
    "    rep = np.random.choice(len(population), qty)\n",
    "\n",
    "    rep = np.array(population)[rep].tolist()\n",
    "\n",
    "    replaced.extend(rep)\n",
    "\n",
    "    return replaced"
   ]
  },
  {
   "cell_type": "markdown",
   "metadata": {},
   "source": [
    "<b>Definições</b>\n",
    "\n",
    "No enunciado do trabalho foi mencionada a necessidade de definir claramente algumas características da solução. Essas características e suas definições são:\n",
    "\n",
    "- O modelo evolutivo adotado: algoritmo genético.\n",
    "- Variações nos parâmetros: mapa utilizado e tamanho da população.\n",
    "- Função de Fitness adotada: score resultante dado pela ferramenta.\n",
    "- Tamanho da população: 100 e 10.\n",
    "- Critério de parada: até atingir o fim do jogo.\n",
    "- Técnica de seleção: 40% genes mais bem avaliados.\n",
    "- Técnica de crossover: corte na lista de ações e troca.\n",
    "- Técnica de mutação: escolhe movimento aleatório e troca por outro.\n",
    "- Método de replacement: 20% da população aleatoriamente.\n",
    "- Taxa de mutação: 20%.\n",
    "- Taxa de crossover: 20%."
   ]
  },
  {
   "cell_type": "markdown",
   "metadata": {},
   "source": [
    "### Metodologia"
   ]
  },
  {
   "cell_type": "markdown",
   "metadata": {},
   "source": [
    "A solução foi executada para populações de tamanho 100 e 10, com os seguintes labirintos e quantidade de iterações:\n",
    "- smallClassic (10x)\n",
    "- mediumClassic (3x)\n",
    "- originalClassic (2x)\n",
    "\n",
    "Como para os mapas maiores a solução demora mais de 6 horas por iteração, elas foram executadas um menor número de vezes."
   ]
  },
  {
   "cell_type": "markdown",
   "metadata": {},
   "source": [
    "### Resultados"
   ]
  },
  {
   "cell_type": "code",
   "execution_count": null,
   "metadata": {},
   "outputs": [],
   "source": []
  },
  {
   "cell_type": "markdown",
   "metadata": {},
   "source": [
    "<b>Considerações Finais</b>"
   ]
  },
  {
   "cell_type": "markdown",
   "metadata": {},
   "source": []
  },
  {
   "cell_type": "markdown",
   "metadata": {},
   "source": [
    "## Contribuições\n",
    "<br>\n",
    "O membro do grupo <b>Lucas Zanco Ladeira</b> contribuiu com toda a implementação, validação e escrita da parte I deste trabalho.\n",
    "\n",
    "O membro do grupo <b>Rafael Scherer</b> contribuiu com toda a implementação, validação e escrita da parte II deste trabalho."
   ]
  }
 ],
 "metadata": {
  "kernelspec": {
   "display_name": "Python 3",
   "language": "python",
   "name": "python3"
  },
  "language_info": {
   "codemirror_mode": {
    "name": "ipython",
    "version": 3
   },
   "file_extension": ".py",
   "mimetype": "text/x-python",
   "name": "python",
   "nbconvert_exporter": "python",
   "pygments_lexer": "ipython3",
   "version": "3.8.7"
  }
 },
 "nbformat": 4,
 "nbformat_minor": 4
}
